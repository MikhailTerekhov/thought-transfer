{
 "cells": [
  {
   "cell_type": "code",
   "execution_count": 2,
   "id": "initial_id",
   "metadata": {
    "ExecuteTime": {
     "end_time": "2024-08-30T23:23:58.313193Z",
     "start_time": "2024-08-30T23:23:58.307029Z"
    },
    "collapsed": true
   },
   "outputs": [],
   "source": [
    "import json\n",
    "from pathlib import Path\n",
    "\n",
    "import numpy as np\n",
    "import torch as t\n",
    "import webdataset as wds\n",
    "\n",
    "from thought_transfer.sparse_recoder import SparseRecoder"
   ]
  },
  {
   "cell_type": "code",
   "execution_count": 4,
   "id": "9fdec5e41a59131e",
   "metadata": {
    "ExecuteTime": {
     "end_time": "2024-08-30T23:25:15.800472Z",
     "start_time": "2024-08-30T23:25:15.506853Z"
    }
   },
   "outputs": [],
   "source": [
    "model_id = \"v1_sae1_100000_20240830231731\"\n",
    "config = json.loads(Path(f\"../outputs/models/{model_id}.json\").read_text())\n",
    "model = SparseRecoder(**config)\n",
    "model.load_state_dict(t.load(f\"../outputs/models/{model_id}.pth\"))\n",
    "model = model.cuda()"
   ]
  },
  {
   "cell_type": "code",
   "execution_count": 5,
   "id": "13f306f72e4aca8c",
   "metadata": {
    "ExecuteTime": {
     "end_time": "2024-08-30T23:25:38.572969Z",
     "start_time": "2024-08-30T23:25:38.248127Z"
    }
   },
   "outputs": [
    {
     "name": "stdout",
     "output_type": "stream",
     "text": [
      "torch.Size([5, 6144]) torch.Size([5, 768])\n",
      "tensor(19.3935, device='cuda:0', grad_fn=<MeanBackward0>)\n"
     ]
    }
   ],
   "source": [
    "values = np.random.rand(5, 768)\n",
    "values = t.tensor(values, dtype=t.float32).cuda()\n",
    "enc, recons = model(values)\n",
    "print(enc.shape, recons.shape)\n",
    "print(t.mean((values - recons) ** 2))"
   ]
  },
  {
   "cell_type": "code",
   "execution_count": 10,
   "id": "11059f2c39236e8b",
   "metadata": {
    "ExecuteTime": {
     "end_time": "2024-08-30T23:30:38.699522Z",
     "start_time": "2024-08-30T23:30:38.681865Z"
    }
   },
   "outputs": [
    {
     "name": "stdout",
     "output_type": "stream",
     "text": [
      "/claire-rcp-scratch/home/terekhov/mats/thought-transfer/src/thought_transfer\n"
     ]
    }
   ],
   "source": [
    "from thought_transfer.train import unpack"
   ]
  },
  {
   "cell_type": "code",
   "execution_count": null,
   "id": "15d6de9cddf26bcf",
   "metadata": {},
   "outputs": [],
   "source": [
    "data = "
   ]
  }
 ],
 "metadata": {
  "kernelspec": {
   "display_name": "Python 3",
   "language": "python",
   "name": "python3"
  },
  "language_info": {
   "codemirror_mode": {
    "name": "ipython",
    "version": 2
   },
   "file_extension": ".py",
   "mimetype": "text/x-python",
   "name": "python",
   "nbconvert_exporter": "python",
   "pygments_lexer": "ipython2",
   "version": "2.7.6"
  }
 },
 "nbformat": 4,
 "nbformat_minor": 5
}
