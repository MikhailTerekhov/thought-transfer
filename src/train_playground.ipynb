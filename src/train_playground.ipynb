{
 "cells": [
  {
   "cell_type": "code",
   "execution_count": 1,
   "id": "initial_id",
   "metadata": {
    "ExecuteTime": {
     "end_time": "2024-08-30T18:24:17.976926Z",
     "start_time": "2024-08-30T18:24:15.710062Z"
    },
    "collapsed": true
   },
   "outputs": [],
   "source": [
    "import sys\n",
    "from pathlib import Path\n",
    "from io import BytesIO\n",
    "import json\n",
    "\n",
    "import torch as t\n",
    "import numpy as np\n",
    "import webdataset as wds"
   ]
  },
  {
   "cell_type": "code",
   "execution_count": 11,
   "id": "31e5f43339bca628",
   "metadata": {
    "ExecuteTime": {
     "end_time": "2024-08-30T19:15:55.794211Z",
     "start_time": "2024-08-30T19:15:55.785891Z"
    }
   },
   "outputs": [],
   "source": [
    "data_path = \"../data/wiki_sentences_v1.tar\"\n",
    "dataset = wds.WebDataset(data_path)\n",
    "dataset_iter = iter(dataset)"
   ]
  },
  {
   "cell_type": "code",
   "execution_count": 12,
   "id": "7df913231594d6c2",
   "metadata": {
    "ExecuteTime": {
     "end_time": "2024-08-30T19:15:56.334077Z",
     "start_time": "2024-08-30T19:15:56.317396Z"
    }
   },
   "outputs": [],
   "source": [
    "class SparseRecoder(t.nn.Module):\n",
    "    def __init__(self, n_in, n_hidden, n_out, add_topk=True):\n",
    "        super(SparseRecoder, self).__init__()\n",
    "        self.encoder = t.nn.Linear(n_in, n_hidden)\n",
    "        self.decoder = t.nn.Linear(n_hidden, n_out)\n",
    "        self.add_topk = add_topk\n",
    "\n",
    "    def forward(self, x):\n",
    "        encoded = self.encoder(x)\n",
    "        if self.add_topk:\n",
    "            # TODO add topk\n",
    "            pass\n",
    "        decoded = self.decoder(encoded)\n",
    "        return decoded"
   ]
  },
  {
   "cell_type": "code",
   "execution_count": 13,
   "id": "8769814ebe0b0ccf",
   "metadata": {
    "ExecuteTime": {
     "end_time": "2024-08-30T19:15:56.836334Z",
     "start_time": "2024-08-30T19:15:56.815643Z"
    }
   },
   "outputs": [],
   "source": [
    "def unpack(sample):\n",
    "    text = sample[\"text.txt\"]\n",
    "    resid_gpt2 = np.load(BytesIO(sample[\"resid_gpt2.npy\"]))\n",
    "    resid_opt = np.load(BytesIO(sample[\"resid_opt.npy\"]))\n",
    "    return text, resid_gpt2, resid_opt\n",
    "\n",
    "txt, resid_gpt2, resid_opt = unpack(next(dataset_iter))\n",
    "d_first = resid_gpt2.shape[-1]\n",
    "d_second = resid_opt.shape[-1]"
   ]
  },
  {
   "cell_type": "code",
   "execution_count": 14,
   "id": "f79aad43e210b32c",
   "metadata": {
    "ExecuteTime": {
     "end_time": "2024-08-30T19:15:57.474068Z",
     "start_time": "2024-08-30T19:15:57.467204Z"
    }
   },
   "outputs": [],
   "source": [
    "from tqdm.notebook import tqdm"
   ]
  },
  {
   "cell_type": "code",
   "execution_count": 18,
   "id": "74f235dc598eaf7",
   "metadata": {
    "ExecuteTime": {
     "end_time": "2024-08-30T19:17:58.787785Z",
     "start_time": "2024-08-30T19:17:51.187586Z"
    }
   },
   "outputs": [
    {
     "data": {
      "application/vnd.jupyter.widget-view+json": {
       "model_id": "209aeef1b5194c549d8dceb06a0d30bb",
       "version_major": 2,
       "version_minor": 0
      },
      "text/plain": [
       "0it [00:00, ?it/s]"
      ]
     },
     "metadata": {},
     "output_type": "display_data"
    }
   ],
   "source": [
    "expansion_factor = 8\n",
    "lr = 1e-3\n",
    "sae_first = SparseRecoder(d_first, expansion_factor * d_first, d_first, add_topk=False)\n",
    "sae_first = sae_first.cuda()\n",
    "optimizer = t.optim.Adam(sae_first.parameters(), lr=lr)\n",
    "\n",
    "# max_steps = 100\n",
    "\n",
    "for i, sample in tqdm(enumerate(dataset_iter)):\n",
    "    txt, resid_gpt2, resid_opt = unpack(sample)\n",
    "    \n",
    "    resid_gpt2 = t.tensor(resid_gpt2, dtype=t.float32, device=\"cuda\")[0, ...]\n",
    "    reconstr_gpt2 = sae_first(resid_gpt2)\n",
    "    \n",
    "    loss = t.nn.functional.mse_loss(reconstr_gpt2, resid_gpt2)\n",
    "    loss.backward()\n",
    "    optimizer.step()\n",
    "    optimizer.zero_grad(    )\n",
    "    # if i == 100:\n",
    "    #     break"
   ]
  },
  {
   "cell_type": "code",
   "execution_count": 19,
   "id": "b7b58aff32607911",
   "metadata": {
    "ExecuteTime": {
     "end_time": "2024-08-30T19:18:01.527587Z",
     "start_time": "2024-08-30T19:18:01.516920Z"
    }
   },
   "outputs": [
    {
     "name": "stdout",
     "output_type": "stream",
     "text": [
      "tensor(0.3392, device='cuda:0', grad_fn=<MseLossBackward0>)\n"
     ]
    }
   ],
   "source": [
    "print(loss)"
   ]
  },
  {
   "cell_type": "code",
   "execution_count": null,
   "id": "726c3c9d0808c4a9",
   "metadata": {},
   "outputs": [],
   "source": []
  }
 ],
 "metadata": {
  "kernelspec": {
   "display_name": "Python 3",
   "language": "python",
   "name": "python3"
  },
  "language_info": {
   "codemirror_mode": {
    "name": "ipython",
    "version": 2
   },
   "file_extension": ".py",
   "mimetype": "text/x-python",
   "name": "python",
   "nbconvert_exporter": "python",
   "pygments_lexer": "ipython2",
   "version": "2.7.6"
  }
 },
 "nbformat": 4,
 "nbformat_minor": 5
}
