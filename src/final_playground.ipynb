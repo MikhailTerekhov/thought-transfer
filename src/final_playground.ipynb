{
 "cells": [
  {
   "cell_type": "code",
   "execution_count": 10,
   "id": "initial_id",
   "metadata": {
    "ExecuteTime": {
     "end_time": "2024-08-31T02:00:12.283056Z",
     "start_time": "2024-08-31T02:00:12.277535Z"
    },
    "collapsed": true
   },
   "outputs": [],
   "source": [
    "import json\n",
    "\n",
    "import numpy as np\n",
    "import torch as t\n",
    "import webdataset as wds\n",
    "import datasets\n",
    "\n",
    "from thought_transfer.sparse_recoder import SparseRecoder"
   ]
  },
  {
   "cell_type": "code",
   "execution_count": 5,
   "id": "780c03d04cb5520f",
   "metadata": {
    "ExecuteTime": {
     "end_time": "2024-08-31T01:57:52.095691Z",
     "start_time": "2024-08-31T01:57:52.089249Z"
    }
   },
   "outputs": [],
   "source": [
    "sae1_id = 'sae1_20240831_015411'\n",
    "sae2_id = 'sae2_20240831_015411'\n",
    "trans_id = 'translate_20240831_015411'"
   ]
  },
  {
   "cell_type": "code",
   "execution_count": 33,
   "id": "3dbbf0729cda02ef",
   "metadata": {
    "ExecuteTime": {
     "end_time": "2024-08-31T02:28:05.787186Z",
     "start_time": "2024-08-31T02:28:05.779810Z"
    }
   },
   "outputs": [],
   "source": [
    "def load_model(model_id):\n",
    "    config_file = f'../outputs/models/{model_id}.json'\n",
    "    config = json.load(open(config_file, 'r'))\n",
    "    model = SparseRecoder(**config)\n",
    "    model.load_state_dict(t.load(f'../outputs/models/{model_id}.pth'))\n",
    "    model = model.to('cuda')\n",
    "    return model"
   ]
  },
  {
   "cell_type": "code",
   "execution_count": 34,
   "id": "97f2683e981e9541",
   "metadata": {
    "ExecuteTime": {
     "end_time": "2024-08-31T02:28:07.377224Z",
     "start_time": "2024-08-31T02:28:06.186667Z"
    }
   },
   "outputs": [],
   "source": [
    "sae1 = load_model(sae1_id)\n",
    "sae2 = load_model(sae2_id)\n",
    "trans = load_model(trans_id)"
   ]
  },
  {
   "cell_type": "code",
   "execution_count": 35,
   "id": "c1ef0169fdfc5374",
   "metadata": {
    "ExecuteTime": {
     "end_time": "2024-08-31T02:28:09.702168Z",
     "start_time": "2024-08-31T02:28:09.694008Z"
    }
   },
   "outputs": [
    {
     "data": {
      "text/plain": [
       "SparseRecoder(\n",
       "  (encoder): Linear(in_features=768, out_features=6144, bias=True)\n",
       "  (decoder): Linear(in_features=6144, out_features=768, bias=True)\n",
       ")"
      ]
     },
     "execution_count": 35,
     "metadata": {},
     "output_type": "execute_result"
    }
   ],
   "source": [
    "sae1"
   ]
  },
  {
   "cell_type": "code",
   "execution_count": 36,
   "id": "a469c6e87d990ab9",
   "metadata": {
    "ExecuteTime": {
     "end_time": "2024-08-31T02:28:09.902866Z",
     "start_time": "2024-08-31T02:28:09.895702Z"
    }
   },
   "outputs": [],
   "source": [
    "from thought_transfer.train import unpack, get_input_output"
   ]
  },
  {
   "cell_type": "code",
   "execution_count": 37,
   "id": "3fcacbdc6e24df0",
   "metadata": {
    "ExecuteTime": {
     "end_time": "2024-08-31T02:28:11.163532Z",
     "start_time": "2024-08-31T02:28:11.155838Z"
    }
   },
   "outputs": [],
   "source": [
    "def explained_variance(pred, target):\n",
    "    return t.mean(1 - t.var(pred - target, dim=0) / (t.var(target, dim=0) + 1e-8))"
   ]
  },
  {
   "cell_type": "code",
   "execution_count": 38,
   "id": "44e4662845675220",
   "metadata": {
    "ExecuteTime": {
     "end_time": "2024-08-31T02:28:11.539039Z",
     "start_time": "2024-08-31T02:28:11.533849Z"
    }
   },
   "outputs": [],
   "source": [
    "from tqdm.notebook import tqdm"
   ]
  },
  {
   "cell_type": "code",
   "execution_count": 42,
   "id": "cb3c36c5a90d212f",
   "metadata": {
    "ExecuteTime": {
     "end_time": "2024-08-31T02:30:16.332387Z",
     "start_time": "2024-08-31T02:30:11.890432Z"
    }
   },
   "outputs": [
    {
     "data": {
      "application/vnd.jupyter.widget-view+json": {
       "model_id": "cb04a827a45745d38e1c16580c000767",
       "version_major": 2,
       "version_minor": 0
      },
      "text/plain": [
       "  0%|          | 0/1000 [00:00<?, ?it/s]"
      ]
     },
     "metadata": {},
     "output_type": "display_data"
    },
    {
     "name": "stdout",
     "output_type": "stream",
     "text": [
      "Explained variance for OPT: -0.36211150884628296\n",
      "Explained variance for GPT2: 0.4416324496269226\n",
      "Explained variance for OPT -> GPT2: 0.46607792377471924\n"
     ]
    }
   ],
   "source": [
    "inds = np.load(\"../data/wiki_split.npz\")\n",
    "# We ended up not using this part\n",
    "data = wds.WebDataset(f\"../data/wiki_sentences_100000_200000_20240830_225314.tar\")\n",
    "\n",
    "# Translation model translates OPT -> GPT2\n",
    "# (there is a bug in naming the dataset columns)\n",
    "sum_explained_variance_1 = 0\n",
    "sum_explained_variance_2 = 0\n",
    "sum_explained_variance_trans = 0\n",
    "\n",
    "num_samples = 1000\n",
    "\n",
    "for i, sample in tqdm(enumerate(data), total=num_samples):\n",
    "    if i == num_samples:\n",
    "        break\n",
    "    text, resid_opt, resid_gpt2 = unpack(sample)\n",
    "    # first dim is 1\n",
    "    resid_opt = t.tensor(resid_opt[0], device='cuda')\n",
    "    resid_gpt2 = t.tensor(resid_gpt2[0], device='cuda')\n",
    "    \n",
    "    var_1 = explained_variance(sae1(resid_opt)[1], resid_opt)\n",
    "    var_2 = explained_variance(sae2(resid_gpt2)[1], resid_gpt2)\n",
    "    var_trans = explained_variance(trans(resid_opt)[1], resid_gpt2)\n",
    "    \n",
    "    sum_explained_variance_1 += var_1\n",
    "    sum_explained_variance_2 += var_2\n",
    "    sum_explained_variance_trans  += var_trans\n",
    "    \n",
    "print(f\"Explained variance for OPT: {sum_explained_variance_1 / num_samples}\")\n",
    "print(f\"Explained variance for GPT2: {sum_explained_variance_2 / num_samples}\")\n",
    "print(f\"Explained variance for OPT -> GPT2: {sum_explained_variance_trans / num_samples}\")"
   ]
  },
  {
   "cell_type": "code",
   "execution_count": null,
   "id": "6014c163c9a4fa62",
   "metadata": {},
   "outputs": [],
   "source": []
  }
 ],
 "metadata": {
  "kernelspec": {
   "display_name": "Python 3",
   "language": "python",
   "name": "python3"
  },
  "language_info": {
   "codemirror_mode": {
    "name": "ipython",
    "version": 2
   },
   "file_extension": ".py",
   "mimetype": "text/x-python",
   "name": "python",
   "nbconvert_exporter": "python",
   "pygments_lexer": "ipython2",
   "version": "2.7.6"
  }
 },
 "nbformat": 4,
 "nbformat_minor": 5
}
